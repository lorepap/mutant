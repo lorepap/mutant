{
 "cells": [
  {
   "cell_type": "code",
   "execution_count": 1,
   "metadata": {},
   "outputs": [],
   "source": [
    "policies = [\n",
    "    \"adaptive_greedy_percentile\",\n",
    "    \"adaptive_greedy_weighted\",\n",
    "    \"bootstrapped_ts\",\n",
    "    \"separate_classifiers\",\n",
    "    \"softmax_explorer\",\n",
    "    \"epsilon_greedy_decay\",\n",
    "    \"epsilon_greedy\"\n",
    "]\n",
    "\n",
    "traces = [\n",
    "    \"att.lte.driving.2016\",\n",
    "    \"tm.lte.driving\",\n",
    "    \"vz.lte.driving\"\n",
    "]"
   ]
  },
  {
   "cell_type": "code",
   "execution_count": null,
   "metadata": {},
   "outputs": [],
   "source": [
    "test_policy = \"adaptive_greedy_percentile\""
   ]
  }
 ],
 "metadata": {
  "kernelspec": {
   "display_name": ".env",
   "language": "python",
   "name": "python3"
  },
  "language_info": {
   "codemirror_mode": {
    "name": "ipython",
    "version": 3
   },
   "file_extension": ".py",
   "mimetype": "text/x-python",
   "name": "python",
   "nbconvert_exporter": "python",
   "pygments_lexer": "ipython3",
   "version": "3.8.16"
  },
  "orig_nbformat": 4
 },
 "nbformat": 4,
 "nbformat_minor": 2
}
