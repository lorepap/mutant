{
 "cells": [
  {
   "cell_type": "code",
   "execution_count": 21,
   "metadata": {},
   "outputs": [],
   "source": [
    "import os\n",
    "import sys\n",
    "import json\n",
    "sys.path.insert(0, os.path.abspath(os.path.join('', os.pardir)))\n",
    "analysis_dir = os.path.abspath(os.path.join('', os.pardir))"
   ]
  },
  {
   "cell_type": "code",
   "execution_count": 22,
   "metadata": {},
   "outputs": [],
   "source": [
    "sys.path.insert(0, os.path.abspath(os.path.join(analysis_dir, os.pardir)))\n",
    "from utils.misc import read_json_file\n",
    "from src.ml.helper.utils import parse_traces_config\n",
    "import matplotlib.pyplot as plt\n",
    "\n",
    "root_dir = os.path.abspath(os.path.join(analysis_dir, os.pardir))\n",
    "log_dir_path = os.path.join(root_dir, 'log')\n",
    "mab_dir_path = os.path.join(log_dir_path, 'mab')\n",
    "history_dir_path = os.path.join(mab_dir_path, 'history')\n",
    "config_dir_path = os.path.join(mab_dir_path, 'config')\n",
    "\n",
    "native_prots = [\"cubic\", \"bbr\", \"hybla\"]\n",
    "policy = \"bootstrapped_ucb\"\n",
    "\n"
   ]
  },
  {
   "cell_type": "code",
   "execution_count": 23,
   "metadata": {},
   "outputs": [],
   "source": [
    "# Read trace names and paths from YAML file\n",
    "trace_data = parse_traces_config()\n",
    "# traces = [t for t in trace_data['traces'].keys()]\n",
    "traces = [\"att.lte.driving\"]"
   ]
  },
  {
   "cell_type": "code",
   "execution_count": 24,
   "metadata": {},
   "outputs": [],
   "source": [
    "from datetime import datetime\n",
    "\n",
    "\n",
    "def get_config(protocol):\n",
    "    log_dir_path = os.path.join(root_dir, 'log')\n",
    "    mab_dir_path = os.path.join(log_dir_path, 'mab', 'config')\n",
    "    config_file_name = protocol + '.json'\n",
    "    file_path = os.path.join(mab_dir_path, config_file_name)\n",
    "    config = read_json_file(file_path)\n",
    "    return config\n",
    "\n",
    "def get_tests(config, protocol, dict, model_ts=None):\n",
    "    runs = config[\"traces\"]\n",
    "    for trace in traces:\n",
    "        for run in runs:\n",
    "            trace_name = run[\"trace_name\"]\n",
    "            if trace_name.startswith(trace):\n",
    "                if (trace == \"att.lte.driving\" and \"2016\" in trace_name) \\\n",
    "                or (trace == \"att.lte.driving.2016\" and \"2016\" not in trace_name):\n",
    "                    continue\n",
    "                timestamp_str = run[\"timestamp\"]\n",
    "                timestamp = datetime.strptime(timestamp_str, '%Y.%m.%d.%H.%M.%S').strftime('%Y.%m.%d.%H.%M.%S')\n",
    "                if protocol in native_prots:\n",
    "                    path = os.path.join(history_dir_path, f\"{protocol}.{timestamp}.json\")\n",
    "                    filename = os.path.basename(path)\n",
    "                    path = os.path.join(history_dir_path, filename)\n",
    "                else:\n",
    "                    path = os.path.join(history_dir_path, f\"{protocol}.{model_ts}.{timestamp}.json\")\n",
    "                    filename = os.path.basename(path)\n",
    "                    path = os.path.join(history_dir_path, filename)\n",
    "                # Check if the model name and trace already exist in the dictionary\n",
    "                key = (protocol, trace)\n",
    "                if key in dict:\n",
    "                    # If they exist, compare the timestamps and update the dictionary if the current timestamp is more recent\n",
    "                    if timestamp > dict[key]:\n",
    "                        dict[key] = path\n",
    "                else:\n",
    "                    # If they don't exist, add them to the dictionary\n",
    "                    dict[key] = path\n",
    "    return dict\n",
    "\n",
    "import numpy as np \n",
    "\n",
    "def build_features_per_step(protocol, trace, json_obj):\n",
    "    step_array = {}\n",
    "\n",
    "    for i, step_logs in enumerate(json_obj[protocol, trace]):\n",
    "        step_array[i] = []\n",
    "        for features_vector in step_logs[\"observation\"][\"features\"]:\n",
    "            step_array[i].append(features_vector)\n",
    "    return step_array\n",
    "\n",
    "def get_observed_actions(protocol, trace, json_obj):\n",
    "    actions = []\n",
    "    for i, step_logs in enumerate(json_obj[protocol, trace]):\n",
    "        actions.append(step_logs[\"action\"])\n",
    "    return actions\n"
   ]
  },
  {
   "cell_type": "code",
   "execution_count": 25,
   "metadata": {},
   "outputs": [
    {
     "data": {
      "text/plain": [
       "'2023.04.26.13.23.54'"
      ]
     },
     "execution_count": 25,
     "metadata": {},
     "output_type": "execute_result"
    }
   ],
   "source": [
    "# Get mimic history\n",
    "config = get_config(policy)\n",
    "model_names = [model['name'] for model in config['models']]\n",
    "model_names.sort(reverse=True)\n",
    "model_ts = '.'.join(model_names[0].split('.')[1:])\n",
    "model_ts"
   ]
  },
  {
   "cell_type": "code",
   "execution_count": 26,
   "metadata": {},
   "outputs": [],
   "source": [
    "# Get native protocols config from log/mab/config\n",
    "# Get the timestamp of the test run\n",
    "# Get the history of the test run (json file) located in log/mab/history using the timestamp\n",
    "\n",
    "import os\n",
    "import json\n",
    "\n",
    "history_dict = {}\n",
    "\n",
    "for protocol in native_prots:\n",
    "    # Load the config file for the current protocol\n",
    "    config_path = get_config(protocol)\n",
    "    history_dict = get_tests(config_path, protocol, history_dict)"
   ]
  },
  {
   "cell_type": "code",
   "execution_count": 27,
   "metadata": {},
   "outputs": [],
   "source": [
    "config_path = get_config(policy)\n",
    "history_dict = get_tests(config_path, policy, history_dict, model_ts)"
   ]
  },
  {
   "cell_type": "code",
   "execution_count": 28,
   "metadata": {},
   "outputs": [
    {
     "data": {
      "text/plain": [
       "'/home/lorenzo/Desktop/mimic-2/log/mab/history/bootstrapped_ucb.2023.04.26.13.23.54.2023.04.26.15.26.36.json'"
      ]
     },
     "execution_count": 28,
     "metadata": {},
     "output_type": "execute_result"
    }
   ],
   "source": [
    "history_dict[policy, \"att.lte.driving\"]"
   ]
  },
  {
   "cell_type": "code",
   "execution_count": 29,
   "metadata": {},
   "outputs": [],
   "source": [
    "import numpy as np\n",
    "\n",
    "# Initialize an empty list to store the feature vectors\n",
    "json_obj = {}\n",
    "\n",
    "for p, t in history_dict:\n",
    "    json_obj[(p, t)] = []\n",
    "    with open(history_dict[p, t], 'r') as f:\n",
    "        for line in f:\n",
    "            json_obj[(p, t)].append(json.loads(line))"
   ]
  },
  {
   "cell_type": "code",
   "execution_count": 30,
   "metadata": {},
   "outputs": [],
   "source": [
    "def plot_feature(values, step_starts=None, protocol=None, linestyle=\"-\", linewidth=None, color=None):\n",
    "    plt.plot(values, linestyle=linestyle, label=protocol, linewidth=linewidth, color=color)\n",
    "    if step_starts is not None:\n",
    "        for step_start in step_starts:\n",
    "            plt.axvline(x=step_start, color='k', linestyle='--', linewidth=0.2)\n",
    "    return plt\n"
   ]
  },
  {
   "cell_type": "code",
   "execution_count": 31,
   "metadata": {},
   "outputs": [],
   "source": [
    "# cwnd, rtt, rtt_dev, delivered, delivered_diff, loss_rate, in_flight, retrans\n",
    "# Get thr observations\n",
    "def get_features(feature_vector):\n",
    "    cwnd_values = []\n",
    "    rtt_values = []\n",
    "    thr_values = []\n",
    "    for step in feature_vector.keys():\n",
    "        for batch in feature_vector[step]:\n",
    "            cwnd_values.append(batch[0])\n",
    "            rtt_values.append(batch[1])\n",
    "            thr_values.append(batch[8])\n",
    "    return cwnd_values, rtt_values, thr_values\n"
   ]
  },
  {
   "cell_type": "code",
   "execution_count": 32,
   "metadata": {},
   "outputs": [
    {
     "name": "stdout",
     "output_type": "stream",
     "text": [
      "82224.91161828913 23664.684601107885\n",
      "1572.2486753735334 32871.04540715416\n",
      "108687.21983955687 54759.71647726798\n",
      "5683.249191105293 22010.19962210736\n"
     ]
    },
    {
     "data": {
      "image/png": "[encoded data removed]",
      "text/plain": [
       "<Figure size 640x480 with 1 Axes>"
      ]
     },
     "metadata": {},
     "output_type": "display_data"
    }
   ],
   "source": [
    "# for p, t in json_obj.keys():\n",
    "save = False\n",
    "line_styles = {'cubic':'-.', 'bbr':'--', 'hybla':':', 'bootstrapped_ucb':'-'}\n",
    "for t in traces:\n",
    "    for i, (p, tr) in enumerate(json_obj.keys()):\n",
    "        if tr == t:\n",
    "            # Get the feature array\n",
    "            s_arr = build_features_per_step(p, t, json_obj)\n",
    "\n",
    "            # Steps starting point on x-axis\n",
    "            f_lenghts = [len(s_arr[k]) for k in sorted(s_arr.keys())[:-1]]\n",
    "            step_starts = [sum(f_lenghts[:k]) for k in sorted(s_arr.keys())[:-1]]\n",
    "\n",
    "            _, rtt_values, thr_values = get_features(s_arr)\n",
    "\n",
    "            # plot the cwnd values for this protocol with a different line style\n",
    "            line_style = line_styles[p]\n",
    "            # plt = plot_feature(thr_values, protocol=p, linestyle=line_style)\n",
    "            avg_delay = sum(rtt_values)/len(rtt_values)\n",
    "            avg_thr = sum(thr_values)/len(thr_values)\n",
    "            print(avg_delay, avg_thr)\n",
    "            plt.plot(avg_delay, avg_thr, marker='X', label=p)\n",
    "\n",
    "\n",
    "    plt.title(f\"{t}\")\n",
    "    plt.xlabel('Avg Delay')\n",
    "    plt.ylabel('Avg Throughput')\n",
    "    plt.grid(linestyle='--', linewidth=0.2)\n",
    "    plt.legend()\n",
    "    if save:\n",
    "        filename = f\"{p}.{t}.thrs.png\"\n",
    "        plt.savefig(f\"/home/lorenzo/Desktop/mimic-2/analysis/plots/thr_trends/{filename}\")\n",
    "    plt.show()"
   ]
  }
 ],
 "metadata": {
  "kernelspec": {
   "display_name": ".env",
   "language": "python",
   "name": "python3"
  },
  "language_info": {
   "codemirror_mode": {
    "name": "ipython",
    "version": 3
   },
   "file_extension": ".py",
   "mimetype": "text/x-python",
   "name": "python",
   "nbconvert_exporter": "python",
   "pygments_lexer": "ipython3",
   "version": "3.8.16"
  },
  "orig_nbformat": 4
 },
 "nbformat": 4,
 "nbformat_minor": 2
}
