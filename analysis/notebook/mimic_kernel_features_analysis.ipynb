{
 "cells": [
  {
   "cell_type": "code",
   "execution_count": 19,
   "metadata": {},
   "outputs": [
    {
     "data": {
      "text/plain": [
       "'/home/lorenzo/Desktop/research-projects/mimic-2'"
      ]
     },
     "execution_count": 19,
     "metadata": {},
     "output_type": "execute_result"
    }
   ],
   "source": [
    "import os\n",
    "import sys\n",
    "sys.path.insert(0, os.path.abspath(os.path.join('', os.pardir)))\n",
    "analysis_dir = os.path.abspath(os.path.join('', os.pardir))\n",
    "sys.path.insert(0, os.path.abspath(os.path.join(analysis_dir, os.pardir)))\n",
    "from utils.misc import read_json_file\n",
    "from src.ml.helper.utils import parse_traces_config\n",
    "\n",
    "analysis_dir = os.path.abspath(os.path.join('', os.pardir))\n",
    "root_dir = os.path.abspath(os.path.join(analysis_dir, os.pardir))\n",
    "root_dir"
   ]
  },
  {
   "cell_type": "code",
   "execution_count": 20,
   "metadata": {},
   "outputs": [],
   "source": [
    "# Path\n",
    "log_dir_path = os.path.join(root_dir, 'log')\n",
    "trace_dir_path = os.path.join(log_dir_path, 'mab', 'trace')"
   ]
  },
  {
   "cell_type": "code",
   "execution_count": 21,
   "metadata": {},
   "outputs": [],
   "source": [
    "import re\n",
    "from datetime import datetime\n",
    "\n",
    "# Get iperf config\n",
    "def get_timestamp_from_config(tag):\n",
    "    iperf_test_dir_path = os.path.join(log_dir_path, 'iperf')\n",
    "    ts_list = []\n",
    "    latest_timestamp = None\n",
    "\n",
    "    for config_file in os.listdir(iperf_test_dir_path):\n",
    "        if config_file.startswith(tag):\n",
    "            full_path = os.path.join(iperf_test_dir_path, config_file)\n",
    "            # print(config_file)\n",
    "            pattern = r\"\\d{4}\\.\\d{2}\\.\\d{2}\\.\\d{2}\\.\\d{2}\\.\\d{2}\"\n",
    "            match = re.search(pattern, config_file)\n",
    "            if not match:\n",
    "                continue\n",
    "            timestamp_str = match.group(0)\n",
    "            timestamp = datetime.strptime(timestamp_str, \"%Y.%m.%d.%H.%M.%S\")\n",
    "            ts_list.append(timestamp)\n",
    "            # check if this timestamp is more recent\n",
    "            if latest_timestamp is None or timestamp > latest_timestamp:\n",
    "                latest_timestamp = timestamp\n",
    "                latest_ts_str = timestamp_str\n",
    "    return latest_ts_str"
   ]
  },
  {
   "cell_type": "code",
   "execution_count": 22,
   "metadata": {},
   "outputs": [],
   "source": [
    "# Get the kernel features from csv\n",
    "def get_features_from_file(csv_filename):\n",
    "    keys = {'action': 0, 'cwnd': 1, 'rtt': 2, 'rtt_dev': 3, 'delivered': 4, 'delivered_diff': 5, 'lost': 6, 'in_flight': 7, 'retrans': 8, 'cwnd_diff': 9, 'step': 10, 'curr_reward': 11, 'reward': 12}\n",
    "\n",
    "    import csv\n",
    "\n",
    "    features = []\n",
    "    file_path = os.path.join(trace_dir_path, csv_filename)\n",
    "    # Loop through each row in the CSV file\n",
    "    with open(file_path, 'r') as csvfile:    # Create a CSV reader using the 'csv' module\n",
    "        reader = csv.reader(csvfile)    \n",
    "        for row in reader:\n",
    "            # Extract the numbers from the row and append them to the features list\n",
    "            numbers = [float(x) for x in row]\n",
    "            if len(numbers) > 0:\n",
    "                features.append({key: float(row[value]) for key, value in keys.items()})\n",
    "    return features\n",
    "\n",
    "def get_csv_filename(trace, policy, timestamp):\n",
    "    for filename in os.listdir(trace_dir_path):\n",
    "            if filename.startswith(trace) and filename.find(policy) != -1 and filename.endswith(timestamp+'.csv'):\n",
    "                return filename\n"
   ]
  },
  {
   "cell_type": "code",
   "execution_count": null,
   "metadata": {},
   "outputs": [],
   "source": [
    "# keys = {'action': 0, 'cwnd': 1, 'rtt': 2, 'rtt_dev': 3, 'delivered': 4, 'delivered_diff': 5, 'lost': 6, 'in_flight': 7, 'retrans': 8, 'cwnd_diff': 9, 'step': 10, 'curr_reward': 11, 'reward': 12}\n",
    "# import csv\n",
    "\n",
    "# features = []\n",
    "# csv_filename = os.path.join(trace_dir_path, 'att.lte.driving.2016.adaptive_greedy_threshold.2023.03.23.20.51.42.csv')\n",
    "# # Loop through each row in the CSV file\n",
    "# with open(csv_filename, 'r') as csvfile:    # Create a CSV reader using the 'csv' module\n",
    "#     reader = csv.reader(csvfile)    \n",
    "#     for row in reader:\n",
    "#         # Extract the numbers from the row and append them to the features list\n",
    "#         numbers = [float(x) for x in row]\n",
    "#         if len(numbers) > 0:\n",
    "#             features.append({key: float(row[value]) for key, value in keys.items()})\n",
    "\n",
    "# features"
   ]
  },
  {
   "cell_type": "code",
   "execution_count": 23,
   "metadata": {},
   "outputs": [],
   "source": [
    "import matplotlib.pyplot as plt\n",
    "import numpy as np\n",
    "#  Get csv filename\n",
    "policy = \"adaptive_greedy_threshold\"\n",
    "# Read trace names and paths from YAML file\n",
    "trace_data = parse_traces_config()\n",
    "traces = [t for t in trace_data['traces'].keys()]"
   ]
  },
  {
   "cell_type": "code",
   "execution_count": null,
   "metadata": {},
   "outputs": [],
   "source": [
    "# Plot cwnd\n",
    "for trace in traces:\n",
    "    timestamp = get_timestamp_from_config(f\"{trace}.{policy}\")\n",
    "    csv_filename = get_csv_filename(trace, policy, timestamp)\n",
    "    features = get_features_from_file(csv_filename)\n",
    "    # Extract congestion window values\n",
    "    cwnds = []\n",
    "    for row in features:\n",
    "        cwnds.append(row['cwnd'])\n",
    "    # Plot cwnd\n",
    "    plt.figure()\n",
    "    plt.plot(np.arange(len(cwnds)), cwnds)\n",
    "    plt.title(trace)\n",
    "    plt.xlabel('steps')\n",
    "    plt.ylabel('cwnd [bytes]')"
   ]
  },
  {
   "cell_type": "code",
   "execution_count": null,
   "metadata": {},
   "outputs": [],
   "source": [
    "# Plot protocol selection\n",
    "for trace in traces:\n",
    "    timestamp = get_timestamp_from_config(f\"{trace}.{policy}\")\n",
    "    csv_filename = get_csv_filename(trace, policy, timestamp)\n",
    "    features = get_features_from_file(csv_filename)\n",
    "    # Extract congestion window values\n",
    "    actions = []\n",
    "    for row in features:\n",
    "        actions.append(row['action'])\n",
    "    # Plot cwnd\n",
    "    plt.figure()\n",
    "    plt.plot(np.arange(len(actions)), actions, marker='o', linestyle='None')\n",
    "    plt.title(trace)\n",
    "    plt.xlabel('steps')\n",
    "    plt.ylabel('protocol')\n",
    "    plt.yticks([0, 1, 2], ['cubic', 'bbr', 'hybla'])"
   ]
  },
  {
   "cell_type": "code",
   "execution_count": 49,
   "metadata": {},
   "outputs": [],
   "source": [
    "import pandas as pd\n",
    "for trace in traces:\n",
    "    timestamp = get_timestamp_from_config(f\"{trace}.{policy}\")\n",
    "    csv_filename = get_csv_filename(trace, policy, timestamp)\n",
    "    features = get_features_from_file(csv_filename)\n",
    "    actions = []\n",
    "    for row in features:\n",
    "        actions.append(row['action'])\n",
    "        df = pd.DataFrame(actions, columns=['protocol'], dtype=int)"
   ]
  },
  {
   "cell_type": "code",
   "execution_count": 74,
   "metadata": {},
   "outputs": [
    {
     "data": {
      "text/plain": [
       "Text(0, 0.5, 'Count')"
      ]
     },
     "execution_count": 74,
     "metadata": {},
     "output_type": "execute_result"
    },
    {
     "data": {
      "image/png": "[encoded data removed]",
      "text/plain": [
       "<Figure size 640x480 with 1 Axes>"
      ]
     },
     "metadata": {},
     "output_type": "display_data"
    }
   ],
   "source": [
    "action_count = df['protocol'].value_counts()\n",
    "fig, ax = plt.subplots()\n",
    "ax.bar(['cubic', 'bbr', 'hybla'], action_count.values)\n",
    "\n",
    "# Add count labels to each bar\n",
    "for i, v in enumerate(action_count.values):\n",
    "    ax.text(i, v + 3, str(v), ha='center', color='black')\n",
    "\n",
    "# Set the axis labels\n",
    "ax.set_xlabel('Protocol')\n",
    "ax.set_ylabel('Count')\n",
    "\n"
   ]
  }
 ],
 "metadata": {
  "kernelspec": {
   "display_name": ".env",
   "language": "python",
   "name": "python3"
  },
  "language_info": {
   "codemirror_mode": {
    "name": "ipython",
    "version": 3
   },
   "file_extension": ".py",
   "mimetype": "text/x-python",
   "name": "python",
   "nbconvert_exporter": "python",
   "pygments_lexer": "ipython3",
   "version": "3.8.13"
  },
  "orig_nbformat": 4,
  "vscode": {
   "interpreter": {
    "hash": "4be4e70ab640b827866d90b14fa7a0cab1a63e549e1ebbb054e2aff708f7c2be"
   }
  }
 },
 "nbformat": 4,
 "nbformat_minor": 2
}
