{
 "cells": [
  {
   "cell_type": "code",
   "execution_count": 1,
   "metadata": {},
   "outputs": [
    {
     "data": {
      "text/plain": [
       "'/home/lorenzo/Desktop/research-projects/mimic-2'"
      ]
     },
     "execution_count": 1,
     "metadata": {},
     "output_type": "execute_result"
    }
   ],
   "source": [
    "import os\n",
    "import sys\n",
    "sys.path.insert(0, os.path.abspath(os.path.join('', os.pardir)))\n",
    "from utils.misc import read_json_file\n",
    "\n",
    "analysis_dir = os.path.abspath(os.path.join('', os.pardir))\n",
    "root_dir = os.path.abspath(os.path.join(analysis_dir, os.pardir))\n",
    "root_dir"
   ]
  },
  {
   "cell_type": "code",
   "execution_count": 2,
   "metadata": {},
   "outputs": [
    {
     "data": {
      "text/plain": [
       "'2023.03.22.14.39.27'"
      ]
     },
     "execution_count": 2,
     "metadata": {},
     "output_type": "execute_result"
    }
   ],
   "source": [
    "# Select policy\n",
    "policy = \"adaptive_greedy_threshold\"\n",
    "\n",
    "# Select trace\n",
    "trace = \"att.lte.driving\"\n",
    "\n",
    "# Get config\n",
    "log_dir_path = os.path.join(root_dir, 'log')\n",
    "mab_dir_path = os.path.join(log_dir_path, 'mab', 'config')\n",
    "config_file_name = policy + '.json'\n",
    "file_path = os.path.join(mab_dir_path, config_file_name)\n",
    "config = read_json_file(file_path)\n",
    "\n",
    "# Get model timestamp\n",
    "model_name = config[\"models\"][0]['name']\n",
    "model_ts = '.'.join(model_name.split('.')[1:])\n",
    "model_ts"
   ]
  },
  {
   "cell_type": "code",
   "execution_count": 3,
   "metadata": {},
   "outputs": [],
   "source": [
    "# Get iperf config\n",
    "exp_ts = config['traces'][0]['timestamp']\n",
    "iperf_test_dir_path = os.path.join(log_dir_path, 'iperf')\n",
    "iperf_file_name = trace + '.' + policy + '.' + model_ts + '.json'\n",
    "iperf_config = read_json_file(os.path.join(iperf_test_dir_path ,iperf_file_name))"
   ]
  },
  {
   "cell_type": "code",
   "execution_count": 4,
   "metadata": {},
   "outputs": [
    {
     "data": {
      "text/plain": [
       "(0.058490999999999994, 786998.628989)"
      ]
     },
     "execution_count": 4,
     "metadata": {},
     "output_type": "execute_result"
    }
   ],
   "source": [
    "client_metrics = iperf_config['end']['streams'][0]['sender']\n",
    "min_rtt = client_metrics['min_rtt']\n",
    "thruput = client_metrics['bits_per_second']\n",
    "min_rtt*10**(-6), thruput"
   ]
  },
  {
   "cell_type": "code",
   "execution_count": null,
   "metadata": {},
   "outputs": [],
   "source": []
  }
 ],
 "metadata": {
  "kernelspec": {
   "display_name": ".env",
   "language": "python",
   "name": "python3"
  },
  "language_info": {
   "codemirror_mode": {
    "name": "ipython",
    "version": 3
   },
   "file_extension": ".py",
   "mimetype": "text/x-python",
   "name": "python",
   "nbconvert_exporter": "python",
   "pygments_lexer": "ipython3",
   "version": "3.8.13"
  },
  "orig_nbformat": 4,
  "vscode": {
   "interpreter": {
    "hash": "4be4e70ab640b827866d90b14fa7a0cab1a63e549e1ebbb054e2aff708f7c2be"
   }
  }
 },
 "nbformat": 4,
 "nbformat_minor": 2
}
